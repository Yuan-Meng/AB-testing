{
 "cells": [
  {
   "cell_type": "markdown",
   "metadata": {},
   "source": [
    "# $T$-Test\n",
    "SciPy has built-in functions (e.g., `scipy.stats.ttest_ind`) to perform $t$-tests. We can also write functions from scratch using the formula below:"
   ]
  },
  {
   "cell_type": "markdown",
   "metadata": {},
   "source": [
    "$$t = \\frac{\\bar{y_1}-\\bar{y_2}}{\\sqrt{s^2_1/N_1+s^2_2/N_2}}$$\n",
    "\n",
    "Here $\\bar{y_1}$ and $\\bar{y_2}$ are sample means of groups 1 and 2, $s_1$ and $s_2$ are their standard deviations, and $N_1$ and $N_2$ are the sample sizes."
   ]
  },
  {
   "cell_type": "markdown",
   "metadata": {},
   "source": [
    "To compute $t$-values, we can simply translate this formula into the function below:"
   ]
  },
  {
   "cell_type": "code",
   "execution_count": 1,
   "metadata": {},
   "outputs": [],
   "source": [
    "import math\n",
    "def t_value(y1, y2, s1, s2, n1, n2):\n",
    "    return (y1 - y2) / math.sqrt(s1 ** 2 / n1 + s2 ** 2 / n2)"
   ]
  },
  {
   "cell_type": "markdown",
   "metadata": {},
   "source": [
    "Let's run it on some test cases."
   ]
  },
  {
   "cell_type": "code",
   "execution_count": 4,
   "metadata": {},
   "outputs": [
    {
     "name": "stdout",
     "output_type": "stream",
     "text": [
      "The first t-value is -19.78141420187361.\n",
      "The second t-value is 6.658536585365854.\n",
      "The third t-value is 3.7139067635410377.\n"
     ]
    }
   ],
   "source": [
    "t1 = t_value(5, 8, 1, 3, 200, 500)\n",
    "print('The first t-value is {}.'.format(t1))\n",
    "\n",
    "t2 = t_value(1090, 999, 400, 30, 900, 100)\n",
    "print('The second t-value is {}.'.format(t2))\n",
    "\n",
    "\n",
    "t3 = t_value(45, 40, 45, 40, 2000, 2000)\n",
    "print('The third t-value is {}.'.format(t3))"
   ]
  }
 ],
 "metadata": {
  "kernelspec": {
   "display_name": "Python 3",
   "language": "python",
   "name": "python3"
  },
  "language_info": {
   "codemirror_mode": {
    "name": "ipython",
    "version": 3
   },
   "file_extension": ".py",
   "mimetype": "text/x-python",
   "name": "python",
   "nbconvert_exporter": "python",
   "pygments_lexer": "ipython3",
   "version": "3.7.3"
  }
 },
 "nbformat": 4,
 "nbformat_minor": 4
}
